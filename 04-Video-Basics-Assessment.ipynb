{
 "cells": [
  {
   "cell_type": "markdown",
   "metadata": {},
   "source": [
    "# Video Basics Assessment \n",
    "\n",
    "* **Note: This assessment is quite hard! Feel free to treat it as a code along and jump to the solutions** *\n",
    "\n",
    "## Project Task\n",
    "\n",
    "**You only have one task here. Create a program that reads in a live stream from a camera on your computer (or if you don't have a camera, just open up a video file). Then whenever you click the left mouse button down, create a blue circle around where you've clicked. Check out the video for an example of what the final project should look like**"
   ]
  },
  {
   "cell_type": "markdown",
   "metadata": {},
   "source": [
    "**Guide**\n",
    "\n",
    "* Create a draw_circle function for the callback function\n",
    "* Use two events cv2.EVENT_LBUTTONDOWN and cv2.EVENT_LBUTTONUP\n",
    "* Use a boolean variable to keep track if the mouse has been clicked up and down based on the events above\n",
    "* Use a tuple to keep track of the x and y where the mouse was clicked.\n",
    "* You should be able to then draw a circle on the frame based on the x,y coordinates from the Event \n",
    "\n",
    "Check out the skeleton guide below:"
   ]
  },
  {
   "cell_type": "code",
   "execution_count": 4,
   "metadata": {},
   "outputs": [],
   "source": [
    "import cv2\n",
    "\n",
    "# Create a function based on a CV2 Event (Left button click)\n",
    "# mouse callback function\n",
    "def draw_circle(event,x,y,flags,param):\n",
    "\n",
    "    global center,clicked\n",
    "\n",
    "    # get mouse click on down and track center\n",
    "    if event == cv2.EVENT_LBUTTONDOWN:\n",
    "        clicked = True\n",
    "        center = (x,y)\n",
    "        \n",
    "    # Use boolean variable to track if the mouse has been released\n",
    "    if event == cv2.EVENT_LBUTTONUP:\n",
    "        clickd = False\n",
    "    \n",
    "        \n",
    "# Haven't drawn anything yet!\n",
    "center = (0,0)\n",
    "clicked = False\n",
    "\n",
    "# Capture Video\n",
    "cap = cv2.VideoCapture(0)\n",
    "\n",
    "window_name = \"Draw Circle on Image\"\n",
    "# Create a named window for connections\n",
    "cv2.namedWindow(window_name)\n",
    "\n",
    "# Bind draw_rectangle function to mouse cliks\n",
    "cv2.setMouseCallback(window_name,draw_circle)\n",
    "\n",
    "\n",
    "while True:\n",
    "    # Capture frame-by-frame\n",
    "    ret, frame = cap.read()\n",
    "\n",
    "    # Use if statement to see if clicked is true\n",
    "    if clicked == True:\n",
    "        # Draw circle on frame\n",
    "        cv2.circle(frame,center=center,radius=50,thickness=5,color=(0,0,255))\n",
    "        \n",
    "\n",
    "    # Display the resulting frame\n",
    "    cv2.imshow(window_name,frame)\n",
    "\n",
    "    # This command let's us quit with the \"q\" button on a keyboard.\n",
    "    # Simply pressing X on the window won't work!\n",
    "    if cv2.waitKey(1) & 0xFF == ord('q'):\n",
    "        break\n",
    "\n",
    "# When everything done, release the capture and destroy the windows\n",
    "cap.release()\n",
    "cv2.destroyAllWindows()"
   ]
  },
  {
   "cell_type": "markdown",
   "metadata": {},
   "source": [
    "## ***Write Camera frames to mp4 file***"
   ]
  },
  {
   "cell_type": "code",
   "execution_count": 5,
   "metadata": {},
   "outputs": [],
   "source": [
    "import cv2\n",
    "\n",
    "#read camera\n",
    "video = cv2.VideoCapture(0)\n",
    "\n",
    "#Define video properties\n",
    "width = int(video.get(cv2.CAP_PROP_FRAME_WIDTH))\n",
    "height = int(video.get(cv2.CAP_PROP_FRAME_HEIGHT))\n",
    "fps = 25\n",
    "\n",
    "#define writer property\n",
    "writer = cv2.VideoWriter('OUTPUT/video_output_04.mp4', cv2.VideoWriter_fourcc(*'XVID'),fps, (width, height))\n",
    "\n",
    "######################\n",
    "#Lets Start Capturing#\n",
    "######################\n",
    "\n",
    "while True:\n",
    "    \n",
    "    #read frames\n",
    "    ret , frame = video.read()\n",
    "    \n",
    "    #write frames\n",
    "    writer.write(frame)\n",
    "    \n",
    "    #Display frames\n",
    "    cv2.imshow('frame',frame) \n",
    "    \n",
    "    # This command let's us quit with the \"q\" button on a keyboard.\n",
    "    # Simply pressing X on the window won't work!\n",
    "    if cv2.waitKey(1) & 0xFF == ord('q'):\n",
    "        break\n",
    "\n",
    "# When everything done, release the capture and destroy the windows\n",
    "video.release()\n",
    "writer.release()\n",
    "cv2.destroyAllWindows()"
   ]
  },
  {
   "cell_type": "markdown",
   "metadata": {},
   "source": [
    "**Done**"
   ]
  }
 ],
 "metadata": {
  "kernelspec": {
   "display_name": "Python 3",
   "language": "python",
   "name": "python3"
  },
  "language_info": {
   "codemirror_mode": {
    "name": "ipython",
    "version": 3
   },
   "file_extension": ".py",
   "mimetype": "text/x-python",
   "name": "python",
   "nbconvert_exporter": "python",
   "pygments_lexer": "ipython3",
   "version": "3.8.0"
  }
 },
 "nbformat": 4,
 "nbformat_minor": 4
}
